{
 "cells": [
  {
   "cell_type": "markdown",
   "metadata": {},
   "source": [
    "#                     Assignment - 2"
   ]
  },
  {
   "cell_type": "markdown",
   "metadata": {},
   "source": [
    "Ans - 1q\n",
    "\n",
    "True and False are the boolean value.\n",
    "The first letter of the both(True , False) value start with capital letters and rest of all character written in lowercase."
   ]
  },
  {
   "cell_type": "markdown",
   "metadata": {},
   "source": [
    "Ans - 2q\n",
    "\n",
    "and, or and not  are the three different types of boolean operators."
   ]
  },
  {
   "cell_type": "markdown",
   "metadata": {},
   "source": [
    "Ans - 3q\n",
    "\n",
    "\n",
    "Truth table of and---\n",
    "                        True and True   = True\n",
    "                        True and False  = false\n",
    "                        False and False = False\n",
    "                        False and True  = False\n",
    "            \n",
    "Truth table of or---\n",
    "                        \n",
    "                        True or True   = True\n",
    "                        True or False  = True\n",
    "                        False or False = False\n",
    "                        False or True  = True\n",
    "Truth table of not---\n",
    "                        not True  = False\n",
    "                        not False = True"
   ]
  },
  {
   "cell_type": "markdown",
   "metadata": {},
   "source": [
    "#Ans - 4q\n",
    "\n",
    "#the value of the following expression are--\n",
    "\n",
    " (5>4)and(3==5)                 = False\n",
    " not(5>4)                       = False\n",
    " (5>4)or(3==5)                  = True\n",
    " not((5>4)or(3==5))             = False\n",
    " (True and True)and(True==False)= False\n",
    " (not False)or(not True)        =True"
   ]
  },
  {
   "cell_type": "markdown",
   "metadata": {},
   "source": [
    "Ans - 5q\n",
    "\n",
    "Six different types of reference operators are--\n",
    " \n",
    " >,<,>=,<=,==,!=\n",
    " "
   ]
  },
  {
   "cell_type": "markdown",
   "metadata": {},
   "source": [
    "Ans - 6q\n",
    "\n",
    "euqaul to operator  (==) - It is used to compare two values and evaluate to a boolean, it wriiten as (==) whereas\n",
    "assignment operator (=)  - It is used to assign the value"
   ]
  },
  {
   "cell_type": "markdown",
   "metadata": {},
   "source": [
    "Ans - 7q\n",
    "\n",
    "condition is a decision making statement. we use those statement while we want to execute a block of code when the given condition is Truemor False"
   ]
  },
  {
   "cell_type": "markdown",
   "metadata": {},
   "source": [
    "Ans - 8q\n",
    "\n",
    "The three blocks are everything inside the if statement and the lines print('bacon')and print('ham').\n",
    " \n",
    " print('eggs')\n",
    " if spam>5:\n",
    "     print('bacon')\n",
    " else:\n",
    "      print('ham')\n",
    " print('spam')"
   ]
  },
  {
   "cell_type": "markdown",
   "metadata": {},
   "source": [
    "Ans - 9q\n",
    "\n",
    "\n",
    "#Program -\n",
    "\n",
    "if spam==1:\n",
    "    print(\"Hello\")\n",
    "elif spam==2:\n",
    "    print(\"Howday\")\n",
    "else:\n",
    "    print(\"Greetings!\")\n",
    "        \n",
    "           "
   ]
  },
  {
   "cell_type": "markdown",
   "metadata": {},
   "source": [
    "Ans - 10q\n",
    "\n",
    "we press Ctrl+C, if we stuck in the endless loop"
   ]
  },
  {
   "cell_type": "markdown",
   "metadata": {},
   "source": [
    "Ans - 11q\n",
    "\n",
    "The break statement terminates the whole iteration of a loop whereas continue skip the current iteration."
   ]
  },
  {
   "cell_type": "markdown",
   "metadata": {},
   "source": [
    "Ans - 12q\n",
    "\n",
    "They do all the same thing. They print the number from 0 to 9."
   ]
  },
  {
   "cell_type": "markdown",
   "metadata": {},
   "source": [
    "Ans - 13q\n",
    "\n",
    "using for loop -  for i in range(1,11):\n",
    "                      print(i)\n",
    "using while lop -\n",
    "                   i=1\n",
    "                   while i<10:\n",
    "                       print(i)\n",
    "                       i=i+1\n",
    "                  "
   ]
  },
  {
   "cell_type": "markdown",
   "metadata": {},
   "source": [
    "Ans - 14q\n",
    "\n",
    "This funtion can be called with spam.bacon()."
   ]
  },
  {
   "cell_type": "code",
   "execution_count": null,
   "metadata": {},
   "outputs": [],
   "source": []
  }
 ],
 "metadata": {
  "kernelspec": {
   "display_name": "Python 3",
   "language": "python",
   "name": "python3"
  },
  "language_info": {
   "codemirror_mode": {
    "name": "ipython",
    "version": 3
   },
   "file_extension": ".py",
   "mimetype": "text/x-python",
   "name": "python",
   "nbconvert_exporter": "python",
   "pygments_lexer": "ipython3",
   "version": "3.8.8"
  }
 },
 "nbformat": 4,
 "nbformat_minor": 4
}
